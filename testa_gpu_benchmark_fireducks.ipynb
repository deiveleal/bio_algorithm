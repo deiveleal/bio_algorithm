{
 "cells": [
  {
   "cell_type": "code",
   "execution_count": 1,
   "metadata": {},
   "outputs": [
    {
     "name": "stderr",
     "output_type": "stream",
     "text": [
      "2025-04-12 07:09:04.080790: E external/local_xla/xla/stream_executor/cuda/cuda_fft.cc:467] Unable to register cuFFT factory: Attempting to register factory for plugin cuFFT when one has already been registered\n",
      "WARNING: All log messages before absl::InitializeLog() is called are written to STDERR\n",
      "E0000 00:00:1744452544.145445   34562 cuda_dnn.cc:8579] Unable to register cuDNN factory: Attempting to register factory for plugin cuDNN when one has already been registered\n",
      "E0000 00:00:1744452544.162886   34562 cuda_blas.cc:1407] Unable to register cuBLAS factory: Attempting to register factory for plugin cuBLAS when one has already been registered\n",
      "W0000 00:00:1744452544.291167   34562 computation_placer.cc:177] computation placer already registered. Please check linkage and avoid linking the same target more than once.\n",
      "W0000 00:00:1744452544.291239   34562 computation_placer.cc:177] computation placer already registered. Please check linkage and avoid linking the same target more than once.\n",
      "W0000 00:00:1744452544.291243   34562 computation_placer.cc:177] computation placer already registered. Please check linkage and avoid linking the same target more than once.\n",
      "W0000 00:00:1744452544.291246   34562 computation_placer.cc:177] computation placer already registered. Please check linkage and avoid linking the same target more than once.\n",
      "2025-04-12 07:09:04.305976: I tensorflow/core/platform/cpu_feature_guard.cc:210] This TensorFlow binary is optimized to use available CPU instructions in performance-critical operations.\n",
      "To enable the following instructions: AVX2 FMA, in other operations, rebuild TensorFlow with the appropriate compiler flags.\n"
     ]
    }
   ],
   "source": [
    "import tensorflow as tf"
   ]
  },
  {
   "cell_type": "code",
   "execution_count": 2,
   "metadata": {},
   "outputs": [
    {
     "name": "stdout",
     "output_type": "stream",
     "text": [
      "GPU está disponível.\n",
      "Nome da GPU: /physical_device:GPU:0\n"
     ]
    }
   ],
   "source": [
    "# Verificar se a GPU está disponível\n",
    "gpus = tf.config.list_physical_devices('GPU')\n",
    "if gpus:\n",
    "    print(\"GPU está disponível.\")\n",
    "    for gpu in gpus:\n",
    "        print(f\"Nome da GPU: {gpu.name}\")\n",
    "else:\n",
    "    print(\"GPU não está disponível.\")"
   ]
  },
  {
   "cell_type": "code",
   "execution_count": 3,
   "metadata": {},
   "outputs": [
    {
     "name": "stderr",
     "output_type": "stream",
     "text": [
      "I0000 00:00:1744452550.670784   34562 gpu_device.cc:2019] Created device /job:localhost/replica:0/task:0/device:GPU:0 with 2559 MB memory:  -> device: 0, name: NVIDIA GeForce GTX 1650, pci bus id: 0000:01:00.0, compute capability: 7.5\n"
     ]
    },
    {
     "data": {
      "text/plain": [
       "[LogicalDevice(name='/device:GPU:0', device_type='GPU')]"
      ]
     },
     "execution_count": 3,
     "metadata": {},
     "output_type": "execute_result"
    }
   ],
   "source": [
    "tf.config.list_logical_devices('GPU')"
   ]
  },
  {
   "cell_type": "code",
   "execution_count": 4,
   "metadata": {},
   "outputs": [],
   "source": [
    "import fireducks.pandas as fd\n",
    "import pandas as pd\n",
    "import numpy as np\n",
    "import time"
   ]
  },
  {
   "cell_type": "code",
   "execution_count": 5,
   "metadata": {},
   "outputs": [
    {
     "name": "stdout",
     "output_type": "stream",
     "text": [
      "\n",
      "Benchmarking com 50000 linhas:\n",
      "Tempo de filtering: 0.0047s\n",
      "Tempo de grouping: 0.0058s\n",
      "Tempo de joining: 20.9955s\n"
     ]
    }
   ],
   "source": [
    "def generate_data(rows=100000):\n",
    "    np.random.seed(42)\n",
    "    base_dates = pd.date_range(start='2020-01-01', periods=3650, freq='D')\n",
    "    data = {\n",
    "        'id': np.arange(rows),\n",
    "        'category': np.random.choice(['A', 'B', 'C', 'D'], size=rows),\n",
    "        'value': np.random.randint(1, 1000, size=rows),\n",
    "        'date': np.random.choice(base_dates, size=rows)\n",
    "    }\n",
    "    return pd.DataFrame(data)\n",
    "\n",
    "def benchmark_pandas(df: pd.DataFrame):\n",
    "    results = {}\n",
    "    \n",
    "    start = time.time()\n",
    "    filtered = df[df['value'] > 500]\n",
    "    results['filtering_time'] = time.time() - start\n",
    "    \n",
    "    start = time.time()\n",
    "    grouped = df.groupby('category')['value'].sum()\n",
    "    results['grouping_time'] = time.time() - start\n",
    "    \n",
    "    other_df = df[['category', 'date']].drop_duplicates()\n",
    "    start = time.time()\n",
    "    joined = df.merge(other_df, on='category')\n",
    "    results['joining_time'] = time.time() - start\n",
    "    \n",
    "    return results\n",
    "\n",
    "if __name__ == \"__main__\":\n",
    "    sizes = [50000]\n",
    "    for size in sizes:\n",
    "        print(f\"\\nBenchmarking com {size} linhas:\")\n",
    "        df = generate_data(size)\n",
    "        results = benchmark_pandas(df)\n",
    "        \n",
    "        print(f\"Tempo de filtering: {results['filtering_time']:.4f}s\")\n",
    "        print(f\"Tempo de grouping: {results['grouping_time']:.4f}s\")\n",
    "        print(f\"Tempo de joining: {results['joining_time']:.4f}s\")"
   ]
  },
  {
   "cell_type": "code",
   "execution_count": 6,
   "metadata": {},
   "outputs": [
    {
     "name": "stdout",
     "output_type": "stream",
     "text": [
      "\n",
      "Benchmarking com 1000000 linhas:\n",
      "Tempo de filtering: 0.0014s\n",
      "Tempo de grouping: 0.0020s\n",
      "Tempo de joining: 0.0006s\n",
      "\n",
      "Benchmarking com 2000000 linhas:\n",
      "Tempo de filtering: 0.0002s\n",
      "Tempo de grouping: 0.0002s\n",
      "Tempo de joining: 0.0001s\n",
      "\n",
      "Benchmarking com 50000000 linhas:\n",
      "Tempo de filtering: 0.0002s\n",
      "Tempo de grouping: 0.0003s\n",
      "Tempo de joining: 0.0001s\n"
     ]
    }
   ],
   "source": [
    "def generate_data(rows=100000):\n",
    "    np.random.seed(42)\n",
    "    base_dates = fd.date_range(start='2020-01-01', periods=3650, freq='D')\n",
    "    data = {\n",
    "        'id': np.arange(rows),\n",
    "        'category': np.random.choice(['A', 'B', 'C', 'D'], size=rows),\n",
    "        'value': np.random.randint(1, 1000, size=rows),\n",
    "        'date': np.random.choice(base_dates, size=rows)\n",
    "    }\n",
    "    return fd.DataFrame(data)\n",
    "\n",
    "def benchmark_pandas(df: fd.DataFrame):\n",
    "    results = {}\n",
    "    \n",
    "    start = time.time()\n",
    "    filtered = df[df['value'] > 500]\n",
    "    results['filtering_time'] = time.time() - start\n",
    "    \n",
    "    start = time.time()\n",
    "    grouped = df.groupby('category')['value'].sum()\n",
    "    results['grouping_time'] = time.time() - start\n",
    "    \n",
    "    other_df = df[['category', 'date']].drop_duplicates()\n",
    "    start = time.time()\n",
    "    joined = df.merge(other_df, on='category')\n",
    "    results['joining_time'] = time.time() - start\n",
    "    \n",
    "    return results\n",
    "\n",
    "if __name__ == \"__main__\":\n",
    "    sizes = [1000000, 2000000, 50000000]\n",
    "    for size in sizes:\n",
    "        print(f\"\\nBenchmarking com {size} linhas:\")\n",
    "        df = generate_data(size)\n",
    "        results = benchmark_pandas(df)\n",
    "        \n",
    "        print(f\"Tempo de filtering: {results['filtering_time']:.4f}s\")\n",
    "        print(f\"Tempo de grouping: {results['grouping_time']:.4f}s\")\n",
    "        print(f\"Tempo de joining: {results['joining_time']:.4f}s\")"
   ]
  },
  {
   "cell_type": "code",
   "execution_count": null,
   "metadata": {},
   "outputs": [],
   "source": []
  }
 ],
 "metadata": {
  "kernelspec": {
   "display_name": ".venv",
   "language": "python",
   "name": "python3"
  },
  "language_info": {
   "codemirror_mode": {
    "name": "ipython",
    "version": 3
   },
   "file_extension": ".py",
   "mimetype": "text/x-python",
   "name": "python",
   "nbconvert_exporter": "python",
   "pygments_lexer": "ipython3",
   "version": "3.12.3"
  }
 },
 "nbformat": 4,
 "nbformat_minor": 2
}
