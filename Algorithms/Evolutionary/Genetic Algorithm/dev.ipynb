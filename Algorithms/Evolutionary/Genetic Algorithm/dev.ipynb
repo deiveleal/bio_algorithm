{
 "cells": [
  {
   "cell_type": "markdown",
   "metadata": {},
   "source": [
    "# Genetic Algorithm (GA) / Algoritmo Genético (AG)\n",
    "\n",
    "## **English Summary**  \n",
    "**Genetic Algorithms** are optimization techniques inspired by **natural selection** and **evolutionary biology**. They mimic the process of natural evolution to solve complex problems by iteratively improving candidate solutions.  \n",
    "\n",
    "### Key Concepts:  \n",
    "- **Population**: A set of candidate solutions (individuals) encoded as chromosomes (e.g., binary strings).  \n",
    "- **Fitness Function**: Evaluates how well a solution solves the problem.  \n",
    "- **Selection**: Prioritizes individuals with higher fitness to \"reproduce\" (e.g., roulette wheel, tournament selection).  \n",
    "- **Crossover**: Combines genetic information from two parents to create offspring.  \n",
    "- **Mutation**: Introduces random changes to maintain genetic diversity and avoid local optima.  \n",
    "- **Replacement**: Generates a new population by replacing weak individuals with offspring.  \n",
    "- **Termination**: Stops when a solution meets criteria (e.g., max generations, target fitness).  \n",
    "\n",
    "### Applications:  \n",
    "- Optimization (parameters, scheduling, routing).  \n",
    "- Machine learning (hyperparameter tuning, feature selection).  \n",
    "- Engineering design and robotics.  \n",
    "\n",
    "```python\n",
    "# Simplified GA Example (Pseudocode)  \n",
    "population = initialize_population()  \n",
    "while not termination_condition:  \n",
    "    fitness = evaluate(population)  \n",
    "    parents = select_parents(population, fitness)  \n",
    "    offspring = crossover(parents)  \n",
    "    offspring = mutate(offspring)  \n",
    "    population = replace(population, offspring)  \n",
    "```\n",
    "\n",
    "## **Resumo em Português do Brasil**  \n",
    "**Algoritmos Genéticos** são técnicas de otimização inspiradas na **seleção natural** e na **biologia evolutiva**. Eles simulam o processo de evolução natural para resolver problemas complexos, aprimorando iterativamente soluções candidatas.  \n",
    "\n",
    "### Conceitos-Chave:  \n",
    "- **População**: Conjunto de soluções candidatas (indivíduos) codificadas como cromossomos (ex.: strings binárias).  \n",
    "- **Função de Aptidão**: Avalia a qualidade de uma solução para o problema.  \n",
    "- **Seleção**: Prioriza indivíduos com maior aptidão para \"reproduzir\" (ex.: roleta, seleção por torneio).  \n",
    "- **Cruzamento**: Combina informações genéticas de dois pais para gerar descendentes.  \n",
    "- **Mutação**: Introduz alterações aleatórias para manter diversidade genética e evitar ótimos locais.  \n",
    "- **Substituição**: Gera nova população substituindo indivíduos menos aptos por descendentes.  \n",
    "- **Término**: Interrompe quando uma solução atinge critérios (ex.: gerações máximas, aptidão desejada).  \n",
    "\n",
    "### Aplicações:  \n",
    "- Otimização (parâmetros, escalonamento, roteamento).  \n",
    "- Aprendizado de máquina (ajuste de hiperparâmetros, seleção de características).  \n",
    "- Projetos de engenharia e robótica.  \n",
    "\n",
    "```python\n",
    "# Exemplo Simplificado de AG (Pseudocódigo)  \n",
    "população = inicializar_população()  \n",
    "enquanto não condição_de_parada:  \n",
    "    aptidão = avaliar(população)  \n",
    "    pais = selecionar_pais(população, aptidão)  \n",
    "    descendentes = cruzamento(pais)  \n",
    "    descendentes = mutação(descendentes)  \n",
    "    população = substituir(população, descendentes)  \n",
    "```\n",
    "\n",
    "---  \n",
    "*Explore mais implementações em repositórios de algoritmos bio-inspirados!* 🧬🔍  \n",
    "```"
   ]
  },
  {
   "cell_type": "code",
   "execution_count": 1,
   "metadata": {},
   "outputs": [],
   "source": [
    "def fitness_function():\n",
    "    pass"
   ]
  },
  {
   "cell_type": "code",
   "execution_count": 2,
   "metadata": {},
   "outputs": [
    {
     "name": "stdout",
     "output_type": "stream",
     "text": [
      "Collecting fireducks\n",
      "  Downloading fireducks-1.2.0-cp310-cp310-manylinux_2_28_x86_64.whl.metadata (1.0 kB)\n",
      "Collecting firefw==1.2.0 (from fireducks)\n",
      "  Downloading firefw-1.2.0-py3-none-any.whl.metadata (818 bytes)\n",
      "Collecting pandas<2.3.0,>=1.5.3 (from fireducks)\n",
      "  Downloading pandas-2.2.3-cp310-cp310-manylinux_2_17_x86_64.manylinux2014_x86_64.whl.metadata (89 kB)\n",
      "Collecting pyarrow<19.1,>=19.0 (from fireducks)\n",
      "  Downloading pyarrow-19.0.0-cp310-cp310-manylinux_2_28_x86_64.whl.metadata (3.3 kB)\n",
      "Requirement already satisfied: numpy>=1.22.4 in /mnt/d/GitRepos/bio_algorithm/.venv/lib/python3.10/site-packages (from pandas<2.3.0,>=1.5.3->fireducks) (2.0.2)\n",
      "Requirement already satisfied: python-dateutil>=2.8.2 in /mnt/d/GitRepos/bio_algorithm/.venv/lib/python3.10/site-packages (from pandas<2.3.0,>=1.5.3->fireducks) (2.9.0.post0)\n",
      "Collecting pytz>=2020.1 (from pandas<2.3.0,>=1.5.3->fireducks)\n",
      "  Downloading pytz-2025.1-py2.py3-none-any.whl.metadata (22 kB)\n",
      "Collecting tzdata>=2022.7 (from pandas<2.3.0,>=1.5.3->fireducks)\n",
      "  Using cached tzdata-2025.1-py2.py3-none-any.whl.metadata (1.4 kB)\n",
      "Requirement already satisfied: six>=1.5 in /mnt/d/GitRepos/bio_algorithm/.venv/lib/python3.10/site-packages (from python-dateutil>=2.8.2->pandas<2.3.0,>=1.5.3->fireducks) (1.17.0)\n",
      "Downloading fireducks-1.2.0-cp310-cp310-manylinux_2_28_x86_64.whl (7.2 MB)\n",
      "\u001b[2K   \u001b[90m━━━━━━━━━━━━━━━━━━━━━━━━━━━━━━━━━━━━━━━━\u001b[0m \u001b[32m7.2/7.2 MB\u001b[0m \u001b[31m1.9 MB/s\u001b[0m eta \u001b[36m0:00:00\u001b[0m00:01\u001b[0m00:01\u001b[0mm\n",
      "\u001b[?25hDownloading firefw-1.2.0-py3-none-any.whl (12 kB)\n",
      "Downloading pandas-2.2.3-cp310-cp310-manylinux_2_17_x86_64.manylinux2014_x86_64.whl (13.1 MB)\n",
      "\u001b[2K   \u001b[90m━━━━━━━━━━━━━━━━━━━━━━━━━━━━━━━━━━━━━━━━\u001b[0m \u001b[32m13.1/13.1 MB\u001b[0m \u001b[31m669.0 kB/s\u001b[0m eta \u001b[36m0:00:00\u001b[0m0:01\u001b[0m00:01\u001b[0m\n",
      "\u001b[?25hDownloading pyarrow-19.0.0-cp310-cp310-manylinux_2_28_x86_64.whl (42.1 MB)\n",
      "\u001b[2K   \u001b[90m━━━━━━━━━━━━━━━━━━━━━━━━━━━━━━━━━━━━━━━━\u001b[0m \u001b[32m42.1/42.1 MB\u001b[0m \u001b[31m2.2 MB/s\u001b[0m eta \u001b[36m0:00:00\u001b[0m:00:01\u001b[0m00:01\u001b[0m\n",
      "\u001b[?25hDownloading pytz-2025.1-py2.py3-none-any.whl (507 kB)\n",
      "Using cached tzdata-2025.1-py2.py3-none-any.whl (346 kB)\n",
      "Installing collected packages: pytz, tzdata, pyarrow, firefw, pandas, fireducks\n",
      "Successfully installed fireducks-1.2.0 firefw-1.2.0 pandas-2.2.3 pyarrow-19.0.0 pytz-2025.1 tzdata-2025.1\n",
      "Note: you may need to restart the kernel to use updated packages.\n"
     ]
    }
   ],
   "source": [
    "pip install fireducks"
   ]
  },
  {
   "cell_type": "code",
   "execution_count": 3,
   "metadata": {},
   "outputs": [
    {
     "name": "stderr",
     "output_type": "stream",
     "text": [
      "2025-01-31 08:34:32.140500: E external/local_xla/xla/stream_executor/cuda/cuda_fft.cc:477] Unable to register cuFFT factory: Attempting to register factory for plugin cuFFT when one has already been registered\n",
      "WARNING: All log messages before absl::InitializeLog() is called are written to STDERR\n",
      "E0000 00:00:1738323274.111774    9505 cuda_dnn.cc:8310] Unable to register cuDNN factory: Attempting to register factory for plugin cuDNN when one has already been registered\n",
      "E0000 00:00:1738323274.569320    9505 cuda_blas.cc:1418] Unable to register cuBLAS factory: Attempting to register factory for plugin cuBLAS when one has already been registered\n",
      "2025-01-31 08:34:49.535679: I tensorflow/core/platform/cpu_feature_guard.cc:210] This TensorFlow binary is optimized to use available CPU instructions in performance-critical operations.\n",
      "To enable the following instructions: AVX2 FMA, in other operations, rebuild TensorFlow with the appropriate compiler flags.\n"
     ]
    }
   ],
   "source": [
    "import tensorflow as tf"
   ]
  },
  {
   "cell_type": "code",
   "execution_count": 4,
   "metadata": {},
   "outputs": [
    {
     "name": "stdout",
     "output_type": "stream",
     "text": [
      "GPU está disponível.\n",
      "Nome da GPU: /physical_device:GPU:0\n"
     ]
    }
   ],
   "source": [
    "# Verificar se a GPU está disponível\n",
    "gpus = tf.config.list_physical_devices('GPU')\n",
    "if gpus:\n",
    "    print(\"GPU está disponível.\")\n",
    "    for gpu in gpus:\n",
    "        print(f\"Nome da GPU: {gpu.name}\")\n",
    "else:\n",
    "    print(\"GPU não está disponível.\")"
   ]
  },
  {
   "cell_type": "code",
   "execution_count": 5,
   "metadata": {},
   "outputs": [
    {
     "name": "stderr",
     "output_type": "stream",
     "text": [
      "I0000 00:00:1738323523.583288    9505 gpu_device.cc:2022] Created device /job:localhost/replica:0/task:0/device:GPU:0 with 2248 MB memory:  -> device: 0, name: NVIDIA GeForce GTX 1650, pci bus id: 0000:01:00.0, compute capability: 7.5\n"
     ]
    },
    {
     "data": {
      "text/plain": [
       "[LogicalDevice(name='/device:GPU:0', device_type='GPU')]"
      ]
     },
     "execution_count": 5,
     "metadata": {},
     "output_type": "execute_result"
    }
   ],
   "source": [
    "tf.config.list_logical_devices('GPU')"
   ]
  },
  {
   "cell_type": "code",
   "execution_count": 7,
   "metadata": {},
   "outputs": [],
   "source": [
    "import fireducks.pandas as fd\n",
    "import pandas as pd\n",
    "import numpy as np\n",
    "import time"
   ]
  },
  {
   "cell_type": "code",
   "execution_count": 14,
   "metadata": {},
   "outputs": [
    {
     "name": "stdout",
     "output_type": "stream",
     "text": [
      "\n",
      "Benchmarking com 100000 linhas:\n"
     ]
    },
    {
     "ename": "",
     "evalue": "",
     "output_type": "error",
     "traceback": [
      "\u001b[1;31mO Kernel deu pane ao executar o código na célula atual ou em uma célula anterior. \n",
      "\u001b[1;31mAnalise o código nas células para identificar uma possível causa da pane. \n",
      "\u001b[1;31mClique <a href='https://aka.ms/vscodeJupyterKernelCrash'>aqui</a> para obter mais informações. \n",
      "\u001b[1;31mConsulte Jupyter <a href='command:jupyter.viewOutput'>log</a> para obter mais detalhes."
     ]
    }
   ],
   "source": [
    "def generate_data(rows=100000):\n",
    "    np.random.seed(42)\n",
    "    base_dates = pd.date_range(start='2020-01-01', periods=3650, freq='D')\n",
    "    data = {\n",
    "        'id': np.arange(rows),\n",
    "        'category': np.random.choice(['A', 'B', 'C', 'D'], size=rows),\n",
    "        'value': np.random.randint(1, 1000, size=rows),\n",
    "        'date': np.random.choice(base_dates, size=rows)\n",
    "    }\n",
    "    return pd.DataFrame(data)\n",
    "\n",
    "def benchmark_pandas(df: pd.DataFrame):\n",
    "    results = {}\n",
    "    \n",
    "    start = time.time()\n",
    "    filtered = df[df['value'] > 500]\n",
    "    results['filtering_time'] = time.time() - start\n",
    "    \n",
    "    start = time.time()\n",
    "    grouped = df.groupby('category')['value'].sum()\n",
    "    results['grouping_time'] = time.time() - start\n",
    "    \n",
    "    other_df = df[['category', 'date']].drop_duplicates()\n",
    "    start = time.time()\n",
    "    joined = df.merge(other_df, on='category')\n",
    "    results['joining_time'] = time.time() - start\n",
    "    \n",
    "    return results\n",
    "\n",
    "if __name__ == \"__main__\":\n",
    "    sizes = [100000, 200000, 500000]\n",
    "    for size in sizes:\n",
    "        print(f\"\\nBenchmarking com {size} linhas:\")\n",
    "        df = generate_data(size)\n",
    "        results = benchmark_pandas(df)\n",
    "        \n",
    "        print(f\"Tempo de filtering: {results['filtering_time']:.4f}s\")\n",
    "        print(f\"Tempo de grouping: {results['grouping_time']:.4f}s\")\n",
    "        print(f\"Tempo de joining: {results['joining_time']:.4f}s\")"
   ]
  },
  {
   "cell_type": "code",
   "execution_count": null,
   "metadata": {},
   "outputs": [],
   "source": [
    "def generate_data(rows=100000):\n",
    "    np.random.seed(42)\n",
    "    base_dates = fd.date_range(start='2020-01-01', periods=3650, freq='D')\n",
    "    data = {\n",
    "        'id': np.arange(rows),\n",
    "        'category': np.random.choice(['A', 'B', 'C', 'D'], size=rows),\n",
    "        'value': np.random.randint(1, 1000, size=rows),\n",
    "        'date': np.random.choice(base_dates, size=rows)\n",
    "    }\n",
    "    return fd.DataFrame(data)\n",
    "\n",
    "def benchmark_pandas(df: fd.DataFrame):\n",
    "    results = {}\n",
    "    \n",
    "    start = time.time()\n",
    "    filtered = df[df['value'] > 500]\n",
    "    results['filtering_time'] = time.time() - start\n",
    "    \n",
    "    start = time.time()\n",
    "    grouped = df.groupby('category')['value'].sum()\n",
    "    results['grouping_time'] = time.time() - start\n",
    "    \n",
    "    other_df = df[['category', 'date']].drop_duplicates()\n",
    "    start = time.time()\n",
    "    joined = df.merge(other_df, on='category')\n",
    "    results['joining_time'] = time.time() - start\n",
    "    \n",
    "    return results\n",
    "\n",
    "if __name__ == \"__main__\":\n",
    "    sizes = [100000, 200000, 500000]\n",
    "    for size in sizes:\n",
    "        print(f\"\\nBenchmarking com {size} linhas:\")\n",
    "        df = generate_data(size)\n",
    "        results = benchmark_pandas(df)\n",
    "        \n",
    "        print(f\"Tempo de filtering: {results['filtering_time']:.4f}s\")\n",
    "        print(f\"Tempo de grouping: {results['grouping_time']:.4f}s\")\n",
    "        print(f\"Tempo de joining: {results['joining_time']:.4f}s\")"
   ]
  }
 ],
 "metadata": {
  "kernelspec": {
   "display_name": ".venv",
   "language": "python",
   "name": "python3"
  },
  "language_info": {
   "codemirror_mode": {
    "name": "ipython",
    "version": 3
   },
   "file_extension": ".py",
   "mimetype": "text/x-python",
   "name": "python",
   "nbconvert_exporter": "python",
   "pygments_lexer": "ipython3",
   "version": "3.10.16"
  }
 },
 "nbformat": 4,
 "nbformat_minor": 2
}
